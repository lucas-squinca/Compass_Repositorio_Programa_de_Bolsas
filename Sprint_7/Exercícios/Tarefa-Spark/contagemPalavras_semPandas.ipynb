{
 "cells": [
  {
   "cell_type": "code",
   "execution_count": 15,
   "id": "43fbd3b8-a563-46e5-963b-7885fc0f00b7",
   "metadata": {},
   "outputs": [],
   "source": [
    "from pyspark.sql import SparkSession\n",
    "from pyspark.sql.functions import regexp_replace\n",
    "spark = SparkSession.builder.appName(\"Contagem de Palavras\").getOrCreate()\n",
    "readme = spark.read.text(\"README.md\")\n",
    "readme = readme.withColumn(\"clean_text\", regexp_replace(\"value\", \"[^a-zA-Z0-9 ]\", \"\"))\n",
    "contagemPalavras = readme.selectExpr(\"explode(split(clean_text, ' ')) as word\").groupBy(\"word\").count().orderBy(\"count\", ascending=False)"
   ]
  },
  {
   "cell_type": "code",
   "execution_count": 16,
   "id": "cd5dab68-6788-48ab-b81d-51cf5b126f89",
   "metadata": {},
   "outputs": [
    {
     "name": "stdout",
     "output_type": "stream",
     "text": [
      "+-------+-----+\n",
      "|   word|count|\n",
      "+-------+-----+\n",
      "|       | 3879|\n",
      "|     de|  170|\n",
      "|      o|  108|\n",
      "|  dados|   70|\n",
      "|      e|   68|\n",
      "|   para|   62|\n",
      "|     um|   61|\n",
      "|      a|   59|\n",
      "|     do|   57|\n",
      "|    git|   52|\n",
      "|     os|   45|\n",
      "|    que|   42|\n",
      "|     as|   39|\n",
      "|     no|   38|\n",
      "|     em|   34|\n",
      "|    com|   32|\n",
      "|    uma|   31|\n",
      "|   Data|   28|\n",
      "|    dos|   24|\n",
      "|arquivo|   22|\n",
      "+-------+-----+\n",
      "only showing top 20 rows\n",
      "\n"
     ]
    }
   ],
   "source": [
    "contagemPalavras.show()"
   ]
  },
  {
   "cell_type": "code",
   "execution_count": null,
   "id": "7af93cd0-bd4c-4dea-b287-a74350287506",
   "metadata": {},
   "outputs": [],
   "source": []
  },
  {
   "cell_type": "code",
   "execution_count": null,
   "id": "7e18c865-b8bd-4e60-b5df-32a60fe2b522",
   "metadata": {},
   "outputs": [],
   "source": []
  }
 ],
 "metadata": {
  "kernelspec": {
   "display_name": "Python 3 (ipykernel)",
   "language": "python",
   "name": "python3"
  },
  "language_info": {
   "codemirror_mode": {
    "name": "ipython",
    "version": 3
   },
   "file_extension": ".py",
   "mimetype": "text/x-python",
   "name": "python",
   "nbconvert_exporter": "python",
   "pygments_lexer": "ipython3",
   "version": "3.11.6"
  }
 },
 "nbformat": 4,
 "nbformat_minor": 5
}
